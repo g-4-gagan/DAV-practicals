{
 "cells": [
  {
   "cell_type": "markdown",
   "metadata": {},
   "source": [
    "# Practical 1"
   ]
  },
  {
   "cell_type": "code",
   "execution_count": 1,
   "metadata": {},
   "outputs": [
    {
     "name": "stdout",
     "output_type": "stream",
     "text": [
      "\n",
      " ORIGINAL DICTIONARY OF LISTS : {'Boys': [72, 68, 70, 69, 74], 'Girls': [63, 65, 69, 62, 61]}\n",
      "\n",
      " NOW LIST OF DICTIONARIES : \n",
      " [{'Boys': 72, 'Girls': 63}, {'Boys': 68, 'Girls': 65}, {'Boys': 70, 'Girls': 69}, {'Boys': 69, 'Girls': 62}, {'Boys': 74, 'Girls': 61}]\n"
     ]
    }
   ],
   "source": [
    "def list_of_dict(heights):\n",
    "    keys=heights.keys()\n",
    "    values = zip(*[heights[k] for k in keys]) \n",
    "    result = [dict(zip(keys,v )) for v in values]\n",
    "    return result\n",
    "\n",
    "heights = {'Boys':[72,68,70,69,74], 'Girls':[63,65,69,62,61]}\n",
    "print(\"\\n ORIGINAL DICTIONARY OF LISTS :\" , heights)\n",
    "print(\"\\n NOW LIST OF DICTIONARIES : \\n\",list_of_dict(heights))\n"
   ]
  },
  {
   "cell_type": "markdown",
   "metadata": {},
   "source": [
    "# Prcatical 2"
   ]
  },
  {
   "cell_type": "code",
   "execution_count": 2,
   "metadata": {},
   "outputs": [],
   "source": [
    "import numpy as np"
   ]
  },
  {
   "cell_type": "code",
   "execution_count": 3,
   "metadata": {},
   "outputs": [
    {
     "data": {
      "text/plain": [
       "array([[46, 48, 13, 35, 19, 30],\n",
       "       [14, 22, 10, 43, 12, 23],\n",
       "       [11, 42, 18, 44, 25, 12],\n",
       "       [49, 16, 23, 34, 33,  1]])"
      ]
     },
     "execution_count": 3,
     "metadata": {},
     "output_type": "execute_result"
    }
   ],
   "source": [
    "#part a\n",
    "arr = np.random.randint(1,50,(4,6))\n",
    "arr"
   ]
  },
  {
   "cell_type": "code",
   "execution_count": 4,
   "metadata": {},
   "outputs": [
    {
     "name": "stdout",
     "output_type": "stream",
     "text": [
      "Mean of the array:  [31.83333333 20.66666667 25.33333333 26.        ]\n",
      "Standard Deviation of the array:  [12.87655061 11.10055054 13.3124837  15.14375559]\n",
      "Variance of the array:  [165.80555556 123.22222222 177.22222222 229.33333333]\n"
     ]
    }
   ],
   "source": [
    "#along the second axis\n",
    "#Mean\n",
    "print('Mean of the array: ',arr.mean(axis=1))\n",
    "#standard deviation\n",
    "print('Standard Deviation of the array: ',arr.std(axis=1))\n",
    "#variance\n",
    "print('Variance of the array: ',arr.var(axis=1))"
   ]
  },
  {
   "cell_type": "code",
   "execution_count": 5,
   "metadata": {},
   "outputs": [
    {
     "data": {
      "text/plain": [
       "array([56, 48, 22, 41, 78, 91, 24, 46,  8, 33])"
      ]
     },
     "execution_count": 5,
     "metadata": {},
     "output_type": "execute_result"
    }
   ],
   "source": [
    "#part b\n",
    "B = [56, 48, 22, 41, 78, 91, 24, 46, 8, 33]\n",
    "arr1 = np.array(B)\n",
    "arr1"
   ]
  },
  {
   "cell_type": "code",
   "execution_count": 6,
   "metadata": {},
   "outputs": [
    {
     "name": "stdout",
     "output_type": "stream",
     "text": [
      "Sorted array:  [ 8 22 24 33 41 46 48 56 78 91]\n",
      "Indices of the sorted elements of a given array:  [8 2 6 9 3 7 1 0 4 5]\n"
     ]
    }
   ],
   "source": [
    "print(\"Sorted array: \",np.sort(arr1))\n",
    "print(\"Indices of the sorted elements of a given array: \",np.argsort(arr1))"
   ]
  },
  {
   "cell_type": "code",
   "execution_count": 7,
   "metadata": {},
   "outputs": [
    {
     "name": "stdout",
     "output_type": "stream",
     "text": [
      "Enter the number of rows(m): 4\n",
      "Enter the number of columns(n): 3\n",
      "[[36 19 34]\n",
      " [87 98 87]\n",
      " [86 63 10]\n",
      " [68 86 42]]\n",
      "Shape:  (4, 3)\n",
      "Type:  <class 'numpy.ndarray'>\n",
      "Data Type:  int32\n",
      "After reshaping: \n",
      " [[36 19 34 87]\n",
      " [98 87 86 63]\n",
      " [10 68 86 42]]\n",
      "New Shape:  (3, 4)\n"
     ]
    }
   ],
   "source": [
    "#part c\n",
    "m = int(input('Enter the number of rows(m): '))\n",
    "n = int(input('Enter the number of columns(n): '))\n",
    "arr2 = np.random.randint(1,100,(m,n))\n",
    "print(arr2)\n",
    "print('Shape: ',arr2.shape)\n",
    "print('Type: ',type(arr2))\n",
    "print('Data Type: ',arr2.dtype)\n",
    "arr2 = arr2.reshape(n,m)\n",
    "print('After reshaping: \\n',arr2)\n",
    "print('New Shape: ',arr2.shape)"
   ]
  },
  {
   "cell_type": "code",
   "execution_count": 8,
   "metadata": {},
   "outputs": [
    {
     "name": "stdout",
     "output_type": "stream",
     "text": [
      "ORIGINAL ARRAY ::-->  [1 0 3 4]\n",
      "\n",
      "Test if none of the elements of the said array is zero ::-->  False\n",
      "The index of the  zero elements is ::  [1]\n",
      "\n",
      "-------------------------------------------------------\n",
      "\n",
      "ORIGINAL ARRAY ::-->  [1 0 0 3 2 0]\n",
      "\n",
      "Test whether any of the elements of a given array is non-zero :: True\n",
      "The index of the non- zero elements is ::  [0 3 4]\n",
      "\n",
      "-------------------------------------------------------\n",
      "\n",
      "ORIGINAL ARRAY ::-->  [ 1.  0. nan  3. nan]\n",
      "\n",
      "Test element-wise for NaN ::  [False False  True False  True]\n",
      "The index of the  zero elements is ::  [2 4]\n"
     ]
    }
   ],
   "source": [
    "#part D\n",
    "x = np.array([1, 0, 3, 4])\n",
    "print(\"ORIGINAL ARRAY ::--> \",x)\n",
    "print(\"\\nTest if none of the elements of the said array is zero ::--> \", np.all(x))\n",
    "\n",
    "res = np.where(x == 0)[0]\n",
    "print(\"The index of the  zero elements is :: \",res)\n",
    "\n",
    "\n",
    "x = np.array([1, 0, 0, 3, 2, 0])\n",
    "print(\"\\n-------------------------------------------------------\")\n",
    "print(\"\\nORIGINAL ARRAY ::--> \",x)\n",
    "print(\"\\nTest whether any of the elements of a given array is non-zero ::\",np.any(x))\n",
    "res = np.where(x != 0)[0]\n",
    "print(\"The index of the non- zero elements is :: \",res)\n",
    "x = np.array([0, 0, 0, 0])\n",
    "\n",
    "\n",
    "a = np.array([1, 0, np.nan, 3, np.nan])\n",
    "print(\"\\n-------------------------------------------------------\")\n",
    "print(\"\\nORIGINAL ARRAY ::--> \",a)\n",
    "print(\"\\nTest element-wise for NaN :: \",np.isnan(a))\n",
    "\n",
    "res = np.where(np.isnan(a) == True)[0]\n",
    "print(\"The index of the  zero elements is :: \",res)"
   ]
  }
 ],
 "metadata": {
  "kernelspec": {
   "display_name": "Python 3",
   "language": "python",
   "name": "python3"
  },
  "language_info": {
   "codemirror_mode": {
    "name": "ipython",
    "version": 3
   },
   "file_extension": ".py",
   "mimetype": "text/x-python",
   "name": "python",
   "nbconvert_exporter": "python",
   "pygments_lexer": "ipython3",
   "version": "3.7.4"
  }
 },
 "nbformat": 4,
 "nbformat_minor": 4
}
