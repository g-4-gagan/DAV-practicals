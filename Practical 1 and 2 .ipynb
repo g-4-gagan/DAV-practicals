{
 "cells": [
  {
   "cell_type": "markdown",
   "metadata": {},
   "source": [
    "# Practical 1"
   ]
  },
  {
   "cell_type": "code",
   "execution_count": null,
   "metadata": {},
   "outputs": [],
   "source": [
    "dict = {'Boys': [72, 68, 70, 69, 74], 'Girls': [63, 65, 69, 62, 61]}"
   ]
  },
  {
   "cell_type": "code",
   "execution_count": 1,
   "metadata": {},
   "outputs": [
    {
     "name": "stdout",
     "output_type": "stream",
     "text": [
      "\n",
      " ORIGINAL DICTIONARY OF LISTS :: {'Boys': [72, 68, 70, 69, 74], 'Girls': [63, 65, 69, 62, 61]}\n",
      "\n",
      " NOW LIST OF DICTIONARIES :: \n",
      " [{'Boys': 72, 'Girls': 63}, {'Boys': 68, 'Girls': 65}, {'Boys': 70, 'Girls': 69}, {'Boys': 69, 'Girls': 62}, {'Boys': 74, 'Girls': 61}]\n"
     ]
    }
   ],
   "source": [
    "def list_of_dict(heights):\n",
    "    keys=heights.keys()\n",
    "    values = zip(*[heights[k] for k in keys]) \n",
    "    result = [dict(zip(keys,v )) for v in values]\n",
    "    return result\n",
    "\n",
    "heights = {'Boys':[72,68,70,69,74], 'Girls':[63,65,69,62,61]}\n",
    "print(\"\\n ORIGINAL DICTIONARY OF LISTS ::\" , heights)\n",
    "print(\"\\n NOW LIST OF DICTIONARIES :: \\n\",list_of_dict(heights))\n"
   ]
  },
  {
   "cell_type": "markdown",
   "metadata": {},
   "source": [
    "# Prcatical 2"
   ]
  },
  {
   "cell_type": "code",
   "execution_count": 2,
   "metadata": {},
   "outputs": [],
   "source": [
    "import numpy as np"
   ]
  },
  {
   "cell_type": "code",
   "execution_count": 3,
   "metadata": {},
   "outputs": [
    {
     "data": {
      "text/plain": [
       "array([[43, 31, 14, 22, 10, 44],\n",
       "       [22,  3, 46, 30, 23, 48],\n",
       "       [30, 42,  1, 28, 39, 19],\n",
       "       [20, 31, 42, 11, 37,  9]])"
      ]
     },
     "execution_count": 3,
     "metadata": {},
     "output_type": "execute_result"
    }
   ],
   "source": [
    "#part a\n",
    "arr = np.random.randint(1,50,(4,6))\n",
    "arr"
   ]
  },
  {
   "cell_type": "code",
   "execution_count": 4,
   "metadata": {},
   "outputs": [
    {
     "name": "stdout",
     "output_type": "stream",
     "text": [
      "Mean of the array:  [27.33333333 28.66666667 26.5        25.        ]\n",
      "Standard Deviation of the array:  [13.18669363 15.33695609 13.64734406 12.5565388 ]\n",
      "Variance of the array:  [173.88888889 235.22222222 186.25       157.66666667]\n"
     ]
    }
   ],
   "source": [
    "#along the second axis\n",
    "#Mean\n",
    "print('Mean of the array: ',arr.mean(axis=1))\n",
    "#standard deviation\n",
    "print('Standard Deviation of the array: ',arr.std(axis=1))\n",
    "#variance\n",
    "print('Variance of the array: ',arr.var(axis=1))"
   ]
  },
  {
   "cell_type": "code",
   "execution_count": 5,
   "metadata": {},
   "outputs": [
    {
     "data": {
      "text/plain": [
       "array([56, 48, 22, 41, 78, 91, 24, 46,  8, 33])"
      ]
     },
     "execution_count": 5,
     "metadata": {},
     "output_type": "execute_result"
    }
   ],
   "source": [
    "#part b\n",
    "B = [56, 48, 22, 41, 78, 91, 24, 46, 8, 33]\n",
    "arr1 = np.array(B)\n",
    "arr1"
   ]
  },
  {
   "cell_type": "code",
   "execution_count": 6,
   "metadata": {},
   "outputs": [
    {
     "data": {
      "text/plain": [
       "array([ 8, 22, 24, 33, 41, 46, 48, 56, 78, 91])"
      ]
     },
     "execution_count": 6,
     "metadata": {},
     "output_type": "execute_result"
    }
   ],
   "source": [
    "arr1.sort()\n",
    "arr1"
   ]
  },
  {
   "cell_type": "code",
   "execution_count": 7,
   "metadata": {},
   "outputs": [
    {
     "name": "stdout",
     "output_type": "stream",
     "text": [
      "Enter the number of rows(m): 2\n",
      "Enter the number of columns(n): 3\n",
      "[[58 24 62]\n",
      " [69  5 63]]\n",
      "Shape:  (2, 3)\n",
      "Data Type:  int32\n",
      "After reshaping: \n",
      " [[58 24]\n",
      " [62 69]\n",
      " [ 5 63]]\n",
      "New Shape:  (3, 2)\n"
     ]
    }
   ],
   "source": [
    "#part c\n",
    "m = int(input('Enter the number of rows(m): '))\n",
    "n = int(input('Enter the number of columns(n): '))\n",
    "arr2 = np.random.randint(1,100,(m,n))\n",
    "print(arr2)\n",
    "print('Shape: ',arr2.shape)\n",
    "# print('Type: ',arr2.type)\n",
    "print('Data Type: ',arr2.dtype)\n",
    "arr2 = arr2.reshape(n,m)\n",
    "print('After reshaping: \\n',arr2)\n",
    "print('New Shape: ',arr2.shape)"
   ]
  },
  {
   "cell_type": "code",
   "execution_count": null,
   "metadata": {},
   "outputs": [],
   "source": []
  }
 ],
 "metadata": {
  "kernelspec": {
   "display_name": "Python 3",
   "language": "python",
   "name": "python3"
  },
  "language_info": {
   "codemirror_mode": {
    "name": "ipython",
    "version": 3
   },
   "file_extension": ".py",
   "mimetype": "text/x-python",
   "name": "python",
   "nbconvert_exporter": "python",
   "pygments_lexer": "ipython3",
   "version": "3.8.8"
  }
 },
 "nbformat": 4,
 "nbformat_minor": 4
}
