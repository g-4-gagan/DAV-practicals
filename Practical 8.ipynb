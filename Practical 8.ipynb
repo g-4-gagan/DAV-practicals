{
 "cells": [
  {
   "cell_type": "markdown",
   "metadata": {},
   "source": [
    "# PRACTICAL QUES 8"
   ]
  },
  {
   "cell_type": "code",
   "execution_count": 1,
   "metadata": {},
   "outputs": [],
   "source": [
    "import pandas as pd\n",
    "import numpy as np\n",
    "import matplotlib.pyplot as plt\n",
    "import seaborn as sns"
   ]
  },
  {
   "cell_type": "code",
   "execution_count": 2,
   "metadata": {},
   "outputs": [],
   "source": [
    "data = [[\"Shah\",\"Male\",114000.00],[\"Vats\",\" Male\",65000.00],[\"Vats \",\"Female\",43150.00],[\"Kumar\", \"Female \",69500.00],\n",
    "        [\"Vats\", \"Female\", 155000.00],[\"Kumar \",\"Male\", 103000.00],[\"Shah\", \"Male\" ,55000.00],\n",
    "        [\"Shah\", \"Female\", 112400.00],[\"Kumar \",\"Female\",81030.00],[\"Vats\", \"Male\", 71900.00]]"
   ]
  },
  {
   "cell_type": "code",
   "execution_count": 16,
   "metadata": {},
   "outputs": [
    {
     "data": {
      "text/html": [
       "<div>\n",
       "<style scoped>\n",
       "    .dataframe tbody tr th:only-of-type {\n",
       "        vertical-align: middle;\n",
       "    }\n",
       "\n",
       "    .dataframe tbody tr th {\n",
       "        vertical-align: top;\n",
       "    }\n",
       "\n",
       "    .dataframe thead th {\n",
       "        text-align: right;\n",
       "    }\n",
       "</style>\n",
       "<table border=\"1\" class=\"dataframe\">\n",
       "  <thead>\n",
       "    <tr style=\"text-align: right;\">\n",
       "      <th></th>\n",
       "      <th>Name</th>\n",
       "      <th>Gender</th>\n",
       "      <th>MonthlyIncome</th>\n",
       "    </tr>\n",
       "  </thead>\n",
       "  <tbody>\n",
       "    <tr>\n",
       "      <th>0</th>\n",
       "      <td>Shah</td>\n",
       "      <td>Male</td>\n",
       "      <td>114000.0</td>\n",
       "    </tr>\n",
       "    <tr>\n",
       "      <th>1</th>\n",
       "      <td>Vats</td>\n",
       "      <td>Male</td>\n",
       "      <td>65000.0</td>\n",
       "    </tr>\n",
       "    <tr>\n",
       "      <th>2</th>\n",
       "      <td>Vats</td>\n",
       "      <td>Female</td>\n",
       "      <td>43150.0</td>\n",
       "    </tr>\n",
       "    <tr>\n",
       "      <th>3</th>\n",
       "      <td>Kumar</td>\n",
       "      <td>Female</td>\n",
       "      <td>69500.0</td>\n",
       "    </tr>\n",
       "    <tr>\n",
       "      <th>4</th>\n",
       "      <td>Vats</td>\n",
       "      <td>Female</td>\n",
       "      <td>155000.0</td>\n",
       "    </tr>\n",
       "    <tr>\n",
       "      <th>5</th>\n",
       "      <td>Kumar</td>\n",
       "      <td>Male</td>\n",
       "      <td>103000.0</td>\n",
       "    </tr>\n",
       "    <tr>\n",
       "      <th>6</th>\n",
       "      <td>Shah</td>\n",
       "      <td>Male</td>\n",
       "      <td>55000.0</td>\n",
       "    </tr>\n",
       "    <tr>\n",
       "      <th>7</th>\n",
       "      <td>Shah</td>\n",
       "      <td>Female</td>\n",
       "      <td>112400.0</td>\n",
       "    </tr>\n",
       "    <tr>\n",
       "      <th>8</th>\n",
       "      <td>Kumar</td>\n",
       "      <td>Female</td>\n",
       "      <td>81030.0</td>\n",
       "    </tr>\n",
       "    <tr>\n",
       "      <th>9</th>\n",
       "      <td>Vats</td>\n",
       "      <td>Male</td>\n",
       "      <td>71900.0</td>\n",
       "    </tr>\n",
       "  </tbody>\n",
       "</table>\n",
       "</div>"
      ],
      "text/plain": [
       "     Name   Gender  MonthlyIncome\n",
       "0    Shah     Male       114000.0\n",
       "1    Vats     Male        65000.0\n",
       "2   Vats    Female        43150.0\n",
       "3   Kumar  Female         69500.0\n",
       "4    Vats   Female       155000.0\n",
       "5  Kumar      Male       103000.0\n",
       "6    Shah     Male        55000.0\n",
       "7    Shah   Female       112400.0\n",
       "8  Kumar    Female        81030.0\n",
       "9    Vats     Male        71900.0"
      ]
     },
     "execution_count": 16,
     "metadata": {},
     "output_type": "execute_result"
    }
   ],
   "source": [
    "family = pd.DataFrame(data=data, columns=[\"Name\" ,\"Gender\", \"MonthlyIncome\"])\n",
    "family"
   ]
  },
  {
   "cell_type": "code",
   "execution_count": 15,
   "metadata": {},
   "outputs": [
    {
     "name": "stdout",
     "output_type": "stream",
     "text": [
      "<class 'pandas.core.frame.DataFrame'>\n",
      "RangeIndex: 10 entries, 0 to 9\n",
      "Data columns (total 3 columns):\n",
      " #   Column         Non-Null Count  Dtype  \n",
      "---  ------         --------------  -----  \n",
      " 0   Name           10 non-null     object \n",
      " 1   Gender         10 non-null     object \n",
      " 2   MonthlyIncome  10 non-null     float64\n",
      "dtypes: float64(1), object(2)\n",
      "memory usage: 368.0+ bytes\n"
     ]
    }
   ],
   "source": [
    "family.info()"
   ]
  },
  {
   "cell_type": "markdown",
   "metadata": {},
   "source": [
    "## PART A"
   ]
  },
  {
   "cell_type": "code",
   "execution_count": 14,
   "metadata": {},
   "outputs": [
    {
     "data": {
      "text/html": [
       "<div>\n",
       "<style scoped>\n",
       "    .dataframe tbody tr th:only-of-type {\n",
       "        vertical-align: middle;\n",
       "    }\n",
       "\n",
       "    .dataframe tbody tr th {\n",
       "        vertical-align: top;\n",
       "    }\n",
       "\n",
       "    .dataframe thead th {\n",
       "        text-align: right;\n",
       "    }\n",
       "</style>\n",
       "<table border=\"1\" class=\"dataframe\">\n",
       "  <thead>\n",
       "    <tr style=\"text-align: right;\">\n",
       "      <th></th>\n",
       "      <th>Name</th>\n",
       "      <th>Kumar</th>\n",
       "      <th>Kumar</th>\n",
       "      <th>Shah</th>\n",
       "      <th>Vats</th>\n",
       "      <th>Vats</th>\n",
       "    </tr>\n",
       "  </thead>\n",
       "  <tbody>\n",
       "    <tr>\n",
       "      <th rowspan=\"8\" valign=\"top\">MonthlyIncome</th>\n",
       "      <th>count</th>\n",
       "      <td>1.0</td>\n",
       "      <td>2.000000</td>\n",
       "      <td>3.000000</td>\n",
       "      <td>3.000000</td>\n",
       "      <td>1.0</td>\n",
       "    </tr>\n",
       "    <tr>\n",
       "      <th>mean</th>\n",
       "      <td>69500.0</td>\n",
       "      <td>92015.000000</td>\n",
       "      <td>93800.000000</td>\n",
       "      <td>97300.000000</td>\n",
       "      <td>43150.0</td>\n",
       "    </tr>\n",
       "    <tr>\n",
       "      <th>std</th>\n",
       "      <td>NaN</td>\n",
       "      <td>15535.135983</td>\n",
       "      <td>33611.307621</td>\n",
       "      <td>50088.621462</td>\n",
       "      <td>NaN</td>\n",
       "    </tr>\n",
       "    <tr>\n",
       "      <th>min</th>\n",
       "      <td>69500.0</td>\n",
       "      <td>81030.000000</td>\n",
       "      <td>55000.000000</td>\n",
       "      <td>65000.000000</td>\n",
       "      <td>43150.0</td>\n",
       "    </tr>\n",
       "    <tr>\n",
       "      <th>25%</th>\n",
       "      <td>69500.0</td>\n",
       "      <td>86522.500000</td>\n",
       "      <td>83700.000000</td>\n",
       "      <td>68450.000000</td>\n",
       "      <td>43150.0</td>\n",
       "    </tr>\n",
       "    <tr>\n",
       "      <th>50%</th>\n",
       "      <td>69500.0</td>\n",
       "      <td>92015.000000</td>\n",
       "      <td>112400.000000</td>\n",
       "      <td>71900.000000</td>\n",
       "      <td>43150.0</td>\n",
       "    </tr>\n",
       "    <tr>\n",
       "      <th>75%</th>\n",
       "      <td>69500.0</td>\n",
       "      <td>97507.500000</td>\n",
       "      <td>113200.000000</td>\n",
       "      <td>113450.000000</td>\n",
       "      <td>43150.0</td>\n",
       "    </tr>\n",
       "    <tr>\n",
       "      <th>max</th>\n",
       "      <td>69500.0</td>\n",
       "      <td>103000.000000</td>\n",
       "      <td>114000.000000</td>\n",
       "      <td>155000.000000</td>\n",
       "      <td>43150.0</td>\n",
       "    </tr>\n",
       "  </tbody>\n",
       "</table>\n",
       "</div>"
      ],
      "text/plain": [
       "Name                   Kumar         Kumar            Shah           Vats  \\\n",
       "MonthlyIncome count      1.0       2.000000       3.000000       3.000000   \n",
       "              mean   69500.0   92015.000000   93800.000000   97300.000000   \n",
       "              std        NaN   15535.135983   33611.307621   50088.621462   \n",
       "              min    69500.0   81030.000000   55000.000000   65000.000000   \n",
       "              25%    69500.0   86522.500000   83700.000000   68450.000000   \n",
       "              50%    69500.0   92015.000000  112400.000000   71900.000000   \n",
       "              75%    69500.0   97507.500000  113200.000000  113450.000000   \n",
       "              max    69500.0  103000.000000  114000.000000  155000.000000   \n",
       "\n",
       "Name                   Vats   \n",
       "MonthlyIncome count      1.0  \n",
       "              mean   43150.0  \n",
       "              std        NaN  \n",
       "              min    43150.0  \n",
       "              25%    43150.0  \n",
       "              50%    43150.0  \n",
       "              75%    43150.0  \n",
       "              max    43150.0  "
      ]
     },
     "execution_count": 14,
     "metadata": {},
     "output_type": "execute_result"
    }
   ],
   "source": [
    "familywise = family.groupby('Name')\n",
    "familywise.describe().transpose()"
   ]
  },
  {
   "cell_type": "raw",
   "metadata": {},
   "source": [
    "familywise.sum()"
   ]
  },
  {
   "cell_type": "markdown",
   "metadata": {},
   "source": [
    "## PART B"
   ]
  },
  {
   "cell_type": "code",
   "execution_count": 49,
   "metadata": {},
   "outputs": [
    {
     "data": {
      "text/html": [
       "<div>\n",
       "<style scoped>\n",
       "    .dataframe tbody tr th:only-of-type {\n",
       "        vertical-align: middle;\n",
       "    }\n",
       "\n",
       "    .dataframe tbody tr th {\n",
       "        vertical-align: top;\n",
       "    }\n",
       "\n",
       "    .dataframe thead th {\n",
       "        text-align: right;\n",
       "    }\n",
       "</style>\n",
       "<table border=\"1\" class=\"dataframe\">\n",
       "  <thead>\n",
       "    <tr style=\"text-align: right;\">\n",
       "      <th></th>\n",
       "      <th>Gender</th>\n",
       "      <th>MonthlyIncome</th>\n",
       "    </tr>\n",
       "    <tr>\n",
       "      <th>Name</th>\n",
       "      <th></th>\n",
       "      <th></th>\n",
       "    </tr>\n",
       "  </thead>\n",
       "  <tbody>\n",
       "    <tr>\n",
       "      <th>Kumar</th>\n",
       "      <td>Female</td>\n",
       "      <td>69500.0</td>\n",
       "    </tr>\n",
       "    <tr>\n",
       "      <th>Kumar</th>\n",
       "      <td>Male</td>\n",
       "      <td>103000.0</td>\n",
       "    </tr>\n",
       "    <tr>\n",
       "      <th>Shah</th>\n",
       "      <td>Male</td>\n",
       "      <td>114000.0</td>\n",
       "    </tr>\n",
       "    <tr>\n",
       "      <th>Vats</th>\n",
       "      <td>Male</td>\n",
       "      <td>155000.0</td>\n",
       "    </tr>\n",
       "    <tr>\n",
       "      <th>Vats</th>\n",
       "      <td>Female</td>\n",
       "      <td>43150.0</td>\n",
       "    </tr>\n",
       "  </tbody>\n",
       "</table>\n",
       "</div>"
      ],
      "text/plain": [
       "         Gender  MonthlyIncome\n",
       "Name                          \n",
       "Kumar   Female         69500.0\n",
       "Kumar      Male       103000.0\n",
       "Shah       Male       114000.0\n",
       "Vats       Male       155000.0\n",
       "Vats     Female        43150.0"
      ]
     },
     "execution_count": 49,
     "metadata": {},
     "output_type": "execute_result"
    }
   ],
   "source": [
    "familywise.max()"
   ]
  },
  {
   "cell_type": "markdown",
   "metadata": {},
   "source": [
    "## PART C"
   ]
  },
  {
   "cell_type": "code",
   "execution_count": null,
   "metadata": {},
   "outputs": [],
   "source": []
  },
  {
   "cell_type": "markdown",
   "metadata": {},
   "source": [
    "## PART D"
   ]
  },
  {
   "cell_type": "code",
   "execution_count": 24,
   "metadata": {},
   "outputs": [
    {
     "data": {
      "text/plain": [
       "<pandas.core.groupby.generic.SeriesGroupBy object at 0x000001F24B1D64C8>"
      ]
     },
     "execution_count": 24,
     "metadata": {},
     "output_type": "execute_result"
    }
   ],
   "source": [
    "family.groupby('Name').loc[]"
   ]
  },
  {
   "cell_type": "code",
   "execution_count": null,
   "metadata": {},
   "outputs": [],
   "source": []
  }
 ],
 "metadata": {
  "kernelspec": {
   "display_name": "Python 3",
   "language": "python",
   "name": "python3"
  },
  "language_info": {
   "codemirror_mode": {
    "name": "ipython",
    "version": 3
   },
   "file_extension": ".py",
   "mimetype": "text/x-python",
   "name": "python",
   "nbconvert_exporter": "python",
   "pygments_lexer": "ipython3",
   "version": "3.7.4"
  }
 },
 "nbformat": 4,
 "nbformat_minor": 5
}
