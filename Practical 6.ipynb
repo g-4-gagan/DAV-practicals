{
 "cells": [
  {
   "cell_type": "code",
   "execution_count": 1,
   "metadata": {},
   "outputs": [],
   "source": [
    "import numpy as np\n",
    "import pandas as pd"
   ]
  },
  {
   "cell_type": "code",
   "execution_count": 2,
   "metadata": {},
   "outputs": [
    {
     "name": "stdout",
     "output_type": "stream",
     "text": [
      "<class 'pandas.core.frame.DataFrame'>\n",
      "RangeIndex: 12 entries, 0 to 11\n",
      "Data columns (total 5 columns):\n",
      " #   Column       Non-Null Count  Dtype \n",
      "---  ------       --------------  ----- \n",
      " 0   day          12 non-null     object\n",
      " 1   city         12 non-null     object\n",
      " 2   temperature  12 non-null     int64 \n",
      " 3   windspeed    12 non-null     int64 \n",
      " 4   event        12 non-null     object\n",
      "dtypes: int64(2), object(3)\n",
      "memory usage: 608.0+ bytes\n"
     ]
    }
   ],
   "source": [
    "df = pd.read_csv('weather_by_cities.csv')\n",
    "df.info()"
   ]
  },
  {
   "cell_type": "markdown",
   "metadata": {},
   "source": [
    "Part A"
   ]
  },
  {
   "cell_type": "code",
   "execution_count": 3,
   "metadata": {},
   "outputs": [
    {
     "data": {
      "text/plain": [
       "city\n",
       "mumbai      88.50\n",
       "new york    32.25\n",
       "paris       47.75\n",
       "Name: temperature, dtype: float64"
      ]
     },
     "execution_count": 3,
     "metadata": {},
     "output_type": "execute_result"
    }
   ],
   "source": [
    "df.groupby('city')['temperature'].mean()"
   ]
  },
  {
   "cell_type": "markdown",
   "metadata": {},
   "source": [
    "Part B"
   ]
  },
  {
   "cell_type": "code",
   "execution_count": 4,
   "metadata": {},
   "outputs": [
    {
     "data": {
      "text/plain": [
       "0     1/1/2017\n",
       "1     1/2/2017\n",
       "2     1/3/2017\n",
       "3     1/4/2017\n",
       "4     1/1/2017\n",
       "5     1/2/2017\n",
       "6     1/3/2017\n",
       "7     1/4/2017\n",
       "8     1/1/2017\n",
       "9     1/2/2017\n",
       "10    1/3/2017\n",
       "11    1/4/2017\n",
       "Name: day, dtype: object"
      ]
     },
     "execution_count": 4,
     "metadata": {},
     "output_type": "execute_result"
    }
   ],
   "source": [
    "df[\"day\"].fillna(method = \"ffill\")"
   ]
  },
  {
   "cell_type": "markdown",
   "metadata": {},
   "source": [
    "Part C"
   ]
  },
  {
   "cell_type": "code",
   "execution_count": 5,
   "metadata": {},
   "outputs": [
    {
     "data": {
      "text/html": [
       "<div>\n",
       "<style scoped>\n",
       "    .dataframe tbody tr th:only-of-type {\n",
       "        vertical-align: middle;\n",
       "    }\n",
       "\n",
       "    .dataframe tbody tr th {\n",
       "        vertical-align: top;\n",
       "    }\n",
       "\n",
       "    .dataframe thead th {\n",
       "        text-align: right;\n",
       "    }\n",
       "</style>\n",
       "<table border=\"1\" class=\"dataframe\">\n",
       "  <thead>\n",
       "    <tr style=\"text-align: right;\">\n",
       "      <th></th>\n",
       "      <th>day</th>\n",
       "      <th>city</th>\n",
       "      <th>temperature</th>\n",
       "      <th>windspeed</th>\n",
       "      <th>event</th>\n",
       "    </tr>\n",
       "  </thead>\n",
       "  <tbody>\n",
       "    <tr>\n",
       "      <th>0</th>\n",
       "      <td>01-01-17</td>\n",
       "      <td>new york</td>\n",
       "      <td>32</td>\n",
       "      <td>6</td>\n",
       "      <td>Rain</td>\n",
       "    </tr>\n",
       "    <tr>\n",
       "      <th>1</th>\n",
       "      <td>02-01-17</td>\n",
       "      <td>new york</td>\n",
       "      <td>36</td>\n",
       "      <td>7</td>\n",
       "      <td>Sunny</td>\n",
       "    </tr>\n",
       "    <tr>\n",
       "      <th>2</th>\n",
       "      <td>03-01-17</td>\n",
       "      <td>new york</td>\n",
       "      <td>28</td>\n",
       "      <td>12</td>\n",
       "      <td>Snow</td>\n",
       "    </tr>\n",
       "    <tr>\n",
       "      <th>3</th>\n",
       "      <td>04-01-17</td>\n",
       "      <td>new york</td>\n",
       "      <td>33</td>\n",
       "      <td>7</td>\n",
       "      <td>Sunny</td>\n",
       "    </tr>\n",
       "    <tr>\n",
       "      <th>4</th>\n",
       "      <td>01-01-17</td>\n",
       "      <td>mumbai</td>\n",
       "      <td>90</td>\n",
       "      <td>5</td>\n",
       "      <td>Sunny</td>\n",
       "    </tr>\n",
       "  </tbody>\n",
       "</table>\n",
       "</div>"
      ],
      "text/plain": [
       "        day      city  temperature  windspeed  event\n",
       "0  01-01-17  new york           32          6   Rain\n",
       "1  02-01-17  new york           36          7  Sunny\n",
       "2  03-01-17  new york           28         12   Snow\n",
       "3  04-01-17  new york           33          7  Sunny\n",
       "4  01-01-17    mumbai           90          5  Sunny"
      ]
     },
     "execution_count": 5,
     "metadata": {},
     "output_type": "execute_result"
    }
   ],
   "source": [
    "import datetime as dt\n",
    "df['day'] = pd.to_datetime(df['day']).dt.strftime('%d-%m-%y')\n",
    "df.head()"
   ]
  },
  {
   "cell_type": "markdown",
   "metadata": {},
   "source": [
    "Part D"
   ]
  },
  {
   "cell_type": "code",
   "execution_count": 6,
   "metadata": {},
   "outputs": [
    {
     "name": "stdout",
     "output_type": "stream",
     "text": [
      "event\n",
      "Cloudy    146\n",
      "Fog       172\n",
      "Rain      124\n",
      "Snow       28\n",
      "Sunny     204\n",
      "Name: temperature, dtype: int64\n"
     ]
    }
   ],
   "source": [
    "df_agg = df.groupby(['event']).agg({'temperature' : sum})\n",
    "result = df_agg['temperature'].groupby(level = 0,group_keys= False)\n",
    "print(result.nlargest())"
   ]
  },
  {
   "cell_type": "markdown",
   "metadata": {},
   "source": [
    "Part E"
   ]
  },
  {
   "cell_type": "code",
   "execution_count": 7,
   "metadata": {},
   "outputs": [
    {
     "name": "stdout",
     "output_type": "stream",
     "text": [
      "windspeed  (4.985, 6.5]  (6.5, 8.0]  (8.0, 9.5]  (9.5, 11.0]  (11.0, 12.5]  \\\n",
      "event                                                                        \n",
      "Cloudy                0           1           0            1             0   \n",
      "Fog                   0           0           0            0             1   \n",
      "Rain                  2           0           0            0             0   \n",
      "Snow                  0           0           0            0             1   \n",
      "Sunny                 1           2           0            0             0   \n",
      "\n",
      "windspeed  (12.5, 14.0]  (14.0, 15.5]  (15.5, 17.0]  (17.0, 18.5]  \\\n",
      "event                                                               \n",
      "Cloudy                1             0             0             0   \n",
      "Fog                   0             1             0             0   \n",
      "Rain                  0             0             0             0   \n",
      "Snow                  0             0             0             0   \n",
      "Sunny                 0             0             0             0   \n",
      "\n",
      "windspeed  (18.5, 20.0]  \n",
      "event                    \n",
      "Cloudy                0  \n",
      "Fog                   0  \n",
      "Rain                  0  \n",
      "Snow                  0  \n",
      "Sunny                 1  \n"
     ]
    }
   ],
   "source": [
    "weather=df.groupby(['event' , pd.cut(df.windspeed,10)])\n",
    "result= weather.size().unstack()\n",
    "print(result)"
   ]
  },
  {
   "cell_type": "code",
   "execution_count": null,
   "metadata": {},
   "outputs": [],
   "source": []
  }
 ],
 "metadata": {
  "kernelspec": {
   "display_name": "Python 3",
   "language": "python",
   "name": "python3"
  },
  "language_info": {
   "codemirror_mode": {
    "name": "ipython",
    "version": 3
   },
   "file_extension": ".py",
   "mimetype": "text/x-python",
   "name": "python",
   "nbconvert_exporter": "python",
   "pygments_lexer": "ipython3",
   "version": "3.7.4"
  }
 },
 "nbformat": 4,
 "nbformat_minor": 4
}
